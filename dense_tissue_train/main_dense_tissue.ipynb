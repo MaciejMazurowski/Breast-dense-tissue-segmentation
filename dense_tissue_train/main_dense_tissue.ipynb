{
 "cells": [
  {
   "cell_type": "code",
   "execution_count": 2,
   "metadata": {},
   "outputs": [],
   "source": [
    "os.environ['CUDA_DEVICE_ORDER']='PCI_BUS_ID'\n",
    "os.environ['CUDA_VISIBLE_DEVICES']='2'"
   ]
  },
  {
   "cell_type": "code",
   "execution_count": 2,
   "metadata": {
    "tags": []
   },
   "outputs": [
    {
     "output_type": "stream",
     "name": "stdout",
     "text": [
      "INFO: Using device cuda\n",
      "INFO: Network:\n",
      "\t1 input channels\n",
      "\t1 output channels (classes)\n",
      "\tBilinear upscaling\n",
      "INFO: Creating dataset with 300 examples\n",
      "INFO: Creating dataset with 84 examples\n",
      "INFO: Starting training:\n",
      "        Epochs:          300\n",
      "        Batch size:      2\n",
      "        Learning rate:   1e-05\n",
      "        Training size:   300\n",
      "        Test size:       84\n",
      "        Checkpoints:     True\n",
      "        Device:          cuda\n",
      "        Images scaling:  1\n",
      "    \n",
      "Epoch 1/300:   0%|                                     | 0/300 [00:00<?, ?img/s]/home/sh542/anaconda3/lib/python3.7/site-packages/torchvision/transforms/functional.py:88: UserWarning: The given NumPy array is not writeable, and PyTorch does not support non-writeable tensors. This means you can write to the underlying (supposedly non-writeable) NumPy array using the tensor. You may want to copy the array to protect its data or make it writeable before converting it to a tensor. This type of warning will be suppressed for the rest of this program. (Triggered internally at  /opt/conda/conda-bld/pytorch_1603729006826/work/torch/csrc/utils/tensor_numpy.cpp:141.)\n",
      "  img = torch.from_numpy(np.array(pic, np.int32, copy=False))\n",
      "Epoch 1/300: 100%|████████| 300/300 [00:40<00:00,  7.36img/s, loss (batch)=0.41]\n",
      "INFO: Test Dice Coeff: 0.2187085539485485\n",
      "INFO: Created checkpoint directory\n",
      "INFO: Checkpoint 1 saved !\n",
      "Epoch 2/300: 100%|███████| 300/300 [00:40<00:00,  7.38img/s, loss (batch)=0.415]\n",
      "INFO: Test Dice Coeff: 0.2780839361815658\n",
      "INFO: Checkpoint 2 saved !\n",
      "Epoch 3/300: 100%|███████| 300/300 [00:40<00:00,  7.40img/s, loss (batch)=0.495]\n",
      "INFO: Test Dice Coeff: 0.2822648578720052\n",
      "INFO: Checkpoint 3 saved !\n",
      "Epoch 4/300: 100%|███████| 300/300 [00:40<00:00,  7.39img/s, loss (batch)=0.335]\n",
      "INFO: Test Dice Coeff: 0.37515147779725305\n",
      "INFO: Checkpoint 4 saved !\n",
      "Epoch 5/300: 100%|███████| 300/300 [00:40<00:00,  7.35img/s, loss (batch)=0.319]\n",
      "INFO: Test Dice Coeff: 0.30801414299991275\n",
      "INFO: Checkpoint 5 saved !\n",
      "Epoch 6/300: 100%|███████| 300/300 [00:41<00:00,  7.31img/s, loss (batch)=0.328]\n",
      "INFO: Test Dice Coeff: 0.35889326322941095\n",
      "INFO: Checkpoint 6 saved !\n",
      "Epoch 7/300: 100%|███████| 300/300 [00:40<00:00,  7.36img/s, loss (batch)=0.303]\n",
      "INFO: Test Dice Coeff: 0.3566965971983569\n",
      "INFO: Checkpoint 7 saved !\n",
      "Epoch 8/300: 100%|████████| 300/300 [00:40<00:00,  7.40img/s, loss (batch)=0.29]\n",
      "Validation round:  12%|██▌                   | 10/84 [00:00<00:04, 17.45batch/s]"
     ]
    }
   ],
   "source": [
    "!python train.py -e 300 -b 2 -l 0.00001   "
   ]
  },
  {
   "cell_type": "code",
   "execution_count": 9,
   "metadata": {},
   "outputs": [
    {
     "output_type": "stream",
     "name": "stdout",
     "text": [
      "Image List:  ['Breast_MRI_197_pre_061.png', 'Breast_MRI_820_pre_101.png', 'Breast_MRI_806_pre_110.png', 'Breast_MRI_386_pre_142.png', 'Breast_MRI_849_pre_112.png', 'Breast_MRI_820_pre_145.png', 'Breast_MRI_827_pre_111.png', 'Breast_MRI_806_pre_075.png', 'Breast_MRI_014_pre_064.png', 'Breast_MRI_231_pre_076.png', 'Breast_MRI_288_pre_090.png', 'Breast_MRI_595_pre_138.png', 'Breast_MRI_490_pre_133.png', 'Breast_MRI_820_pre_073.png', 'Breast_MRI_490_pre_110.png', 'Breast_MRI_849_pre_028.png', 'Breast_MRI_503_pre_011.png', 'Breast_MRI_629_pre_035.png', 'Breast_MRI_389_pre_090.png', 'Breast_MRI_288_pre_110.png', 'Breast_MRI_350_pre_125.png', 'Breast_MRI_503_pre_070.png', 'Breast_MRI_515_pre_132.png', 'Breast_MRI_629_pre_100.png', 'Breast_MRI_842_pre_087.png', 'Breast_MRI_827_pre_038.png', 'Breast_MRI_825_pre_088.png', 'Breast_MRI_628_pre_146.png', 'Breast_MRI_598_pre_124.png', 'Breast_MRI_806_pre_033.png', 'Breast_MRI_815_pre_004.png', 'Breast_MRI_389_pre_126.png', 'Breast_MRI_187_pre_104.png', 'Breast_MRI_026_pre_098.png', 'Breast_MRI_849_pre_053.png', 'Breast_MRI_842_pre_116.png', 'Breast_MRI_132_pre_051.png', 'Breast_MRI_815_pre_116.png', 'Breast_MRI_595_pre_103.png', 'Breast_MRI_386_pre_074.png', 'Breast_MRI_515_pre_049.png', 'Breast_MRI_515_pre_093.png', 'Breast_MRI_815_pre_058.png', 'Breast_MRI_708_pre_116.png', 'Breast_MRI_598_pre_149.png', 'Breast_MRI_453_pre_037.png', 'Breast_MRI_231_pre_140.png', 'Breast_MRI_231_pre_119.png', 'Breast_MRI_711_pre_087.png', 'Breast_MRI_842_pre_026.png', 'Breast_MRI_751_pre_037.png', 'Breast_MRI_350_pre_043.png', 'Breast_MRI_132_pre_098.png', 'Breast_MRI_389_pre_042.png', 'Breast_MRI_711_pre_136.png', 'Breast_MRI_751_pre_066.png', 'Breast_MRI_288_pre_169.png', 'Breast_MRI_490_pre_085.png', 'Breast_MRI_503_pre_105.png', 'Breast_MRI_026_pre_174.png', 'Breast_MRI_014_pre_107.png', 'Breast_MRI_827_pre_070.png', 'Breast_MRI_598_pre_076.png', 'Breast_MRI_453_pre_069.png', 'Breast_MRI_187_pre_081.png', 'Breast_MRI_197_pre_084.png', 'Breast_MRI_629_pre_113.png', 'Breast_MRI_386_pre_099.png', 'Breast_MRI_014_pre_147.png', 'Breast_MRI_628_pre_192.png', 'Breast_MRI_350_pre_098.png', 'Breast_MRI_197_pre_132.png', 'Breast_MRI_132_pre_076.png', 'Breast_MRI_825_pre_134.png', 'Breast_MRI_711_pre_188.png', 'Breast_MRI_026_pre_126.png', 'Breast_MRI_708_pre_146.png', 'Breast_MRI_453_pre_102.png', 'Breast_MRI_825_pre_171.png', 'Breast_MRI_187_pre_139.png', 'Breast_MRI_751_pre_108.png', 'Breast_MRI_628_pre_098.png', 'Breast_MRI_708_pre_063.png', 'Breast_MRI_595_pre_062.png']\nDice Coeff [0.741696834564209, 0.9346693754196167, 0.8817062377929688, 1.0, 0.882068395614624, 0.714878499507904, 0.6730964779853821, 0.8232066035270691, 0.7625637054443359, 0.9178364276885986, 0.8781591653823853, 0.7325301170349121, 0.6152482628822327, 0.7362991571426392, 0.8446824550628662, 0.6719507575035095, 1.0, 0.779411792755127, 0.9191304445266724, 0.917449951171875, 0.6669036746025085, 0.9005250930786133, 0.8373525142669678, 0.771048367023468, 0.772455096244812, 0.5436410307884216, 0.8543056845664978, 0.879067599773407, 0.7713451385498047, 0.6431642770767212, 1.0, 0.690529465675354, 0.9383167624473572, 0.6338462233543396, 0.8998505473136902, 0.9091181755065918, 0.8272064328193665, 0.6912650465965271, 0.7871823906898499, 0.7743445634841919, 0.8426209688186646, 0.9583753943443298, 0.4597826302051544, 0.8927902579307556, 0.7021090388298035, 0.43660423159599304, 0.7609812021255493, 0.9043704867362976, 0.7189860939979553, 0.04705994576215744, 0.5843830108642578, 0.6121495962142944, 0.62723308801651, 0.597285270690918, 0.8674558401107788, 0.9498327970504761, 0.7000879645347595, 0.7981374859809875, 0.9177625775337219, 0.7653223276138306, 0.8114660978317261, 0.8477947115898132, 0.4677871763706207, 0.6779527068138123, 0.9450055956840515, 0.6603108048439026, 0.5623616576194763, 0.5364941358566284, 0.5098744034767151, 0.5161295533180237, 0.8094097375869751, 0.7629848122596741, 0.899994432926178, 0.7541998624801636, 0.7971887588500977, 0.7574924230575562, 8.547000902581203e-07, 0.7503302693367004, 1.0, 0.8035126328468323, 0.9114718437194824, 0.7802349925041199, 0.7335216999053955, 0.8355668187141418]\n"
     ]
    }
   ],
   "source": [
    "!python predict.py -i new_png_dense/dense_test/imgs_norm/ -true_m new_png_dense/dense_test/masks/ -o pred_dense_combine_test/ -m_d checkpoint_dense_tissue//CP_epoch145.pth -m_b checkpoint_breast//CP_epoch253.pth"
   ]
  },
  {
   "cell_type": "code",
   "execution_count": 37,
   "metadata": {},
   "outputs": [
    {
     "output_type": "stream",
     "name": "stdout",
     "text": [
      "density =  0.20411424450905746\n"
     ]
    }
   ],
   "source": [
    "# density\n",
    "!python calculate_density.py -i volumn_norm_test/849/  -m_d checkpoint_dense_tissue//CP_epoch145.pth -m_b checkpoint_breast//CP_epoch253.pth"
   ]
  },
  {
   "cell_type": "code",
   "execution_count": null,
   "metadata": {},
   "outputs": [],
   "source": []
  }
 ],
 "metadata": {
  "kernelspec": {
   "name": "python37464bitanaconda3virtualenv1a438be21d3b4f77afbb2426b21f2dfe",
   "display_name": "Python 3.7  ('anaconda3': virtualenv)"
  },
  "language_info": {
   "codemirror_mode": {
    "name": "ipython",
    "version": 3
   },
   "file_extension": ".py",
   "mimetype": "text/x-python",
   "name": "python",
   "nbconvert_exporter": "python",
   "pygments_lexer": "ipython3",
   "version": "3.7"
  },
  "metadata": {
   "interpreter": {
    "hash": "cecd0443e595c1a61c96f325ab255299c162839af5fbaf96b296f3380fab165a"
   }
  }
 },
 "nbformat": 4,
 "nbformat_minor": 4
}