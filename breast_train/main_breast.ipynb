{
 "cells": [
  {
   "cell_type": "code",
   "execution_count": 2,
   "metadata": {},
   "outputs": [],
   "source": [
    "os.environ['CUDA_DEVICE_ORDER']='PCI_BUS_ID'\n",
    "os.environ['CUDA_VISIBLE_DEVICES']='2'"
   ]
  },
  {
   "cell_type": "code",
   "execution_count": 2,
   "metadata": {
    "tags": []
   },
   "outputs": [
    {
     "output_type": "stream",
     "name": "stdout",
     "text": [
      "INFO: Using device cuda\n",
      "INFO: Network:\n",
      "\t1 input channels\n",
      "\t1 output channels (classes)\n",
      "\tBilinear upscaling\n",
      "INFO: Creating dataset with 300 examples\n",
      "INFO: Creating dataset with 84 examples\n",
      "INFO: Starting training:\n",
      "        Epochs:          300\n",
      "        Batch size:      2\n",
      "        Learning rate:   1e-05\n",
      "        Training size:   300\n",
      "        Test size:       84\n",
      "        Checkpoints:     True\n",
      "        Device:          cuda\n",
      "        Images scaling:  1\n",
      "    \n",
      "Epoch 1/300:   0%|                                     | 0/300 [00:00<?, ?img/s]/home/sh542/anaconda3/lib/python3.7/site-packages/torchvision/transforms/functional.py:88: UserWarning: The given NumPy array is not writeable, and PyTorch does not support non-writeable tensors. This means you can write to the underlying (supposedly non-writeable) NumPy array using the tensor. You may want to copy the array to protect its data or make it writeable before converting it to a tensor. This type of warning will be suppressed for the rest of this program. (Triggered internally at  /opt/conda/conda-bld/pytorch_1603729006826/work/torch/csrc/utils/tensor_numpy.cpp:141.)\n",
      "  img = torch.from_numpy(np.array(pic, np.int32, copy=False))\n",
      "Epoch 1/300: 100%|████████| 300/300 [00:40<00:00,  7.36img/s, loss (batch)=0.41]\n",
      "INFO: Test Dice Coeff: 0.2187085539485485\n",
      "INFO: Created checkpoint directory\n",
      "INFO: Checkpoint 1 saved !\n",
      "Epoch 2/300: 100%|███████| 300/300 [00:40<00:00,  7.38img/s, loss (batch)=0.415]\n",
      "INFO: Test Dice Coeff: 0.2780839361815658\n",
      "INFO: Checkpoint 2 saved !\n",
      "Epoch 3/300: 100%|███████| 300/300 [00:40<00:00,  7.40img/s, loss (batch)=0.495]\n",
      "INFO: Test Dice Coeff: 0.2822648578720052\n",
      "INFO: Checkpoint 3 saved !\n",
      "Epoch 4/300: 100%|███████| 300/300 [00:40<00:00,  7.39img/s, loss (batch)=0.335]\n",
      "INFO: Test Dice Coeff: 0.37515147779725305\n",
      "INFO: Checkpoint 4 saved !\n",
      "Epoch 5/300: 100%|███████| 300/300 [00:40<00:00,  7.35img/s, loss (batch)=0.319]\n",
      "INFO: Test Dice Coeff: 0.30801414299991275\n",
      "INFO: Checkpoint 5 saved !\n",
      "Epoch 6/300: 100%|███████| 300/300 [00:41<00:00,  7.31img/s, loss (batch)=0.328]\n",
      "INFO: Test Dice Coeff: 0.35889326322941095\n",
      "INFO: Checkpoint 6 saved !\n",
      "Epoch 7/300: 100%|███████| 300/300 [00:40<00:00,  7.36img/s, loss (batch)=0.303]\n",
      "INFO: Test Dice Coeff: 0.3566965971983569\n",
      "INFO: Checkpoint 7 saved !\n",
      "Epoch 8/300: 100%|████████| 300/300 [00:40<00:00,  7.40img/s, loss (batch)=0.29]\n",
      "Validation round:  12%|██▌                   | 10/84 [00:00<00:04, 17.45batch/s]"
     ]
    }
   ],
   "source": [
    "!python train.py -e 300 -b 2 -l 0.00001   "
   ]
  },
  {
   "cell_type": "code",
   "execution_count": 16,
   "metadata": {},
   "outputs": [
    {
     "output_type": "stream",
     "name": "stdout",
     "text": [
      "['Breast_MRI_386_pre_104.png', 'Breast_MRI_231_pre_152.png', 'Breast_MRI_288_pre_032.png', 'Breast_MRI_503_pre_148.png', 'Breast_MRI_825_pre_076.png', 'Breast_MRI_629_pre_130.png', 'Breast_MRI_806_pre_118.png', 'Breast_MRI_288_pre_094.png', 'Breast_MRI_598_pre_165.png', 'Breast_MRI_629_pre_074.png', 'Breast_MRI_288_pre_188.png', 'Breast_MRI_815_pre_082.png', 'Breast_MRI_820_pre_055.png', 'Breast_MRI_827_pre_024.png', 'Breast_MRI_515_pre_126.png', 'Breast_MRI_595_pre_134.png', 'Breast_MRI_711_pre_043.png', 'Breast_MRI_490_pre_119.png', 'Breast_MRI_503_pre_083.png', 'Breast_MRI_711_pre_206.png', 'Breast_MRI_827_pre_091.png', 'Breast_MRI_849_pre_064.png', 'Breast_MRI_842_pre_158.png', 'Breast_MRI_386_pre_050.png', 'Breast_MRI_231_pre_040.png', 'Breast_MRI_711_pre_107.png', 'Breast_MRI_132_pre_011.png', 'Breast_MRI_815_pre_037.png', 'Breast_MRI_350_pre_092.png', 'Breast_MRI_708_pre_147.png', 'Breast_MRI_598_pre_052.png', 'Breast_MRI_806_pre_024.png', 'Breast_MRI_197_pre_032.png', 'Breast_MRI_503_pre_018.png', 'Breast_MRI_595_pre_008.png', 'Breast_MRI_014_pre_139.png', 'Breast_MRI_515_pre_041.png', 'Breast_MRI_389_pre_084.png', 'Breast_MRI_350_pre_145.png', 'Breast_MRI_806_pre_094.png', 'Breast_MRI_231_pre_101.png', 'Breast_MRI_751_pre_071.png', 'Breast_MRI_014_pre_084.png', 'Breast_MRI_132_pre_113.png', 'Breast_MRI_825_pre_030.png', 'Breast_MRI_453_pre_049.png', 'Breast_MRI_628_pre_085.png', 'Breast_MRI_820_pre_149.png', 'Breast_MRI_386_pre_123.png', 'Breast_MRI_598_pre_077.png', 'Breast_MRI_026_pre_055.png', 'Breast_MRI_350_pre_027.png', 'Breast_MRI_751_pre_015.png', 'Breast_MRI_842_pre_057.png', 'Breast_MRI_453_pre_090.png', 'Breast_MRI_595_pre_069.png', 'Breast_MRI_751_pre_151.png', 'Breast_MRI_708_pre_100.png', 'Breast_MRI_197_pre_121.png', 'Breast_MRI_628_pre_213.png', 'Breast_MRI_825_pre_181.png', 'Breast_MRI_187_pre_134.png', 'Breast_MRI_490_pre_023.png', 'Breast_MRI_815_pre_126.png', 'Breast_MRI_132_pre_063.png', 'Breast_MRI_629_pre_006.png', 'Breast_MRI_827_pre_144.png', 'Breast_MRI_708_pre_038.png', 'Breast_MRI_389_pre_167.png', 'Breast_MRI_628_pre_061.png', 'Breast_MRI_453_pre_117.png', 'Breast_MRI_389_pre_036.png', 'Breast_MRI_820_pre_103.png', 'Breast_MRI_187_pre_078.png', 'Breast_MRI_187_pre_012.png', 'Breast_MRI_515_pre_090.png', 'Breast_MRI_026_pre_107.png', 'Breast_MRI_490_pre_068.png', 'Breast_MRI_849_pre_019.png', 'Breast_MRI_014_pre_036.png', 'Breast_MRI_842_pre_112.png', 'Breast_MRI_849_pre_138.png', 'Breast_MRI_026_pre_172.png', 'Breast_MRI_197_pre_095.png']\n[0.9482181072235107, 0.9432075023651123, 0.8644611835479736, 0.9647121429443359, 0.979371190071106, 0.43498557806015015, 0.9751454591751099, 0.9751548767089844, 0.9170157313346863, 0.7914178371429443, 0.914553701877594, 0.9426822662353516, 0.9391272664070129, 0.9267319440841675, 0.9458965063095093, 0.9761883616447449, 0.8123000264167786, 0.9634611010551453, 0.960552453994751, 0.9378198385238647, 0.9749026894569397, 0.9619699716567993, 0.9415587186813354, 0.9292237162590027, 0.9493663311004639, 0.9517327547073364, 7.940288426766529e-09, 0.9743627905845642, 0.9771928787231445, 0.9528380632400513, 0.9676287174224854, 0.9674899578094482, 0.9033371210098267, 0.9671204090118408, 0.6783625483512878, 0.9519026875495911, 0.9829002618789673, 0.9846362471580505, 0.9721860885620117, 0.950964629650116, 0.9933789968490601, 0.9806010723114014, 0.989969789981842, 0.9244449138641357, 0.9531925320625305, 0.9523383378982544, 0.9565150141716003, 0.9750786423683167, 0.9211666584014893, 0.9474606513977051, 0.9630089402198792, 0.9196553826332092, 0.8398522734642029, 0.9714872241020203, 0.9489449262619019, 0.9721905589103699, 6.075333658372983e-08, 0.97693932056427, 0.9539135694503784, 0.33221885561943054, 1.4518001911767442e-08, 0.9557054042816162, 0.9710238575935364, 0.9233345985412598, 0.9728744626045227, 4.15938750109035e-09, 0.6960625052452087, 0.9834851622581482, 1.348435763048883e-08, 0.9691411852836609, 0.976646363735199, 0.9621313214302063, 0.9895265698432922, 0.972300112247467, 0.47461482882499695, 0.9826086759567261, 0.9693347215652466, 0.965558648109436, 0.9625802636146545, 0.97395920753479, 0.9528810977935791, 0.9673944115638733, 0.9794866442680359, 0.966555655002594]\n"
     ]
    }
   ],
   "source": [
    "!python predict.py -i new_png/breast_test/imgs_norm/ -true_m new_png/breast_test/masks/ -o pred_breast_test/ -m checkpoint_breast//CP_epoch253.pth"
   ]
  },
  {
   "cell_type": "code",
   "execution_count": null,
   "metadata": {},
   "outputs": [],
   "source": []
  }
 ],
 "metadata": {
  "kernelspec": {
   "name": "python37464bitanaconda3virtualenv1a438be21d3b4f77afbb2426b21f2dfe",
   "display_name": "Python 3.7  ('anaconda3': virtualenv)"
  },
  "language_info": {
   "codemirror_mode": {
    "name": "ipython",
    "version": 3
   },
   "file_extension": ".py",
   "mimetype": "text/x-python",
   "name": "python",
   "nbconvert_exporter": "python",
   "pygments_lexer": "ipython3",
   "version": "3.7"
  },
  "metadata": {
   "interpreter": {
    "hash": "cecd0443e595c1a61c96f325ab255299c162839af5fbaf96b296f3380fab165a"
   }
  }
 },
 "nbformat": 4,
 "nbformat_minor": 4
}