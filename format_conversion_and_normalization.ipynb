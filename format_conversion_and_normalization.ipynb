{
 "cells": [
  {
   "cell_type": "code",
   "execution_count": null,
   "metadata": {},
   "outputs": [],
   "source": [
    "import os\n",
    "from pydicom import dcmread\n",
    "from skimage import data,filters\n",
    "import matplotlib.pyplot as plt\n",
    "from scipy import misc\n",
    "from skimage import exposure\n",
    "import cv2\n",
    "import numpy as np\n",
    "\n",
    "# -------------------------Step1: DICOM -> PNG-------------------------\n",
    "path = 'C:\\\\Users\\\\Dell\\\\Desktop\\\\dense_tissue_train\\\\imgs\\\\'\n",
    "imgList = os.listdir(path)\n",
    "\n",
    "save_path = 'C:\\\\Users\\\\Dell\\\\Desktop\\\\png_dense\\\\dense_train\\\\imgs\\\\'\n",
    "if  not os.path.exists(save_path):\n",
    "    os.makedirs(save_path)\n",
    "\n",
    "for i in imgList:\n",
    "    print(i)\n",
    "    s = i.split('.')\n",
    "    dataset = dcmread(path + i)\n",
    "    arr = dataset.pixel_array\n",
    "    misc.imsave(save_path + s[0]+'.png',arr)\n"
   ]
  },
  {
   "cell_type": "code",
   "execution_count": null,
   "metadata": {},
   "outputs": [],
   "source": [
    "# -------------------------Setp2: Image normalization (PNG format)-------------------------\n",
    "path = 'C:\\\\Users\\\\Dell\\\\Desktop\\\\png_dense\\\\dense_train\\\\imgs\\\\'\n",
    "imgList = os.listdir(path)\n",
    "\n",
    "save_path = 'C:\\\\Users\\\\Dell\\\\Desktop\\\\png_dense\\\\dense_train\\\\imgs_norm\\\\'\n",
    "if  not os.path.exists(save_path):\n",
    "    os.makedirs(save_path)\n",
    "\n",
    "for i in imgList:\n",
    "    print(i)\n",
    "    s = i.split('.')\n",
    "    image = cv2.imread(path+i, 0)\n",
    "    p0_5, p99_5 = np.percentile(image, (0.5, 99.5))\n",
    "    img_rescale = exposure.rescale_intensity(image, in_range=(p0_5, p99_5))\n",
    "    misc.imsave(save_path + s[0]+'.png',img_rescale)"
   ]
  }
 ],
 "metadata": {
  "kernelspec": {
   "display_name": "Python 3",
   "language": "python",
   "name": "python3"
  },
  "language_info": {
   "codemirror_mode": {
    "name": "ipython",
    "version": 3
   },
   "file_extension": ".py",
   "mimetype": "text/x-python",
   "name": "python",
   "nbconvert_exporter": "python",
   "pygments_lexer": "ipython3",
   "version": "3.6.10"
  }
 },
 "nbformat": 4,
 "nbformat_minor": 4
}
